{
 "cells": [
  {
   "cell_type": "code",
   "execution_count": 2,
   "id": "ecba5898",
   "metadata": {},
   "outputs": [
    {
     "name": "stdout",
     "output_type": "stream",
     "text": [
      "                                                  review sentiment\n",
      "0      One of the other reviewers has mentioned that ...  positive\n",
      "1      A wonderful little production. The filming tec...  positive\n",
      "2      I thought this was a wonderful way to spend ti...  positive\n",
      "3      Basically there's a family where a little boy ...  negative\n",
      "4      Petter Mattei's \"Love in the Time of Money\" is...  positive\n",
      "...                                                  ...       ...\n",
      "49995  I thought this movie did a down right good job...  positive\n",
      "49996  Bad plot, bad dialogue, bad acting, idiotic di...  negative\n",
      "49997  I am a Catholic taught in parochial elementary...  negative\n",
      "49998  I'm going to have to disagree with the previou...  negative\n",
      "49999  No one expects the Star Trek movies to be high...  negative\n",
      "\n",
      "[50000 rows x 2 columns]\n"
     ]
    }
   ],
   "source": [
    "import pandas as pd\n",
    "\n",
    "dataset_path = \"dataset/preprocessed/imdb_cleaned_HD.csv\"\n",
    "df = pd.read_csv(dataset_path)\n",
    "print(df)"
   ]
  },
  {
   "cell_type": "code",
   "execution_count": 18,
   "id": "62225230",
   "metadata": {},
   "outputs": [
    {
     "name": "stdout",
     "output_type": "stream",
     "text": [
      "Requirement already satisfied: spacy in c:\\users\\lashi\\appdata\\local\\programs\\python\\python311\\lib\\site-packages (3.5.1)\n",
      "Requirement already satisfied: spacy-legacy<3.1.0,>=3.0.11 in c:\\users\\lashi\\appdata\\local\\programs\\python\\python311\\lib\\site-packages (from spacy) (3.0.12)\n",
      "Requirement already satisfied: spacy-loggers<2.0.0,>=1.0.0 in c:\\users\\lashi\\appdata\\local\\programs\\python\\python311\\lib\\site-packages (from spacy) (1.0.4)\n",
      "Requirement already satisfied: murmurhash<1.1.0,>=0.28.0 in c:\\users\\lashi\\appdata\\local\\programs\\python\\python311\\lib\\site-packages (from spacy) (1.0.9)\n",
      "Requirement already satisfied: cymem<2.1.0,>=2.0.2 in c:\\users\\lashi\\appdata\\local\\programs\\python\\python311\\lib\\site-packages (from spacy) (2.0.7)\n",
      "Requirement already satisfied: preshed<3.1.0,>=3.0.2 in c:\\users\\lashi\\appdata\\local\\programs\\python\\python311\\lib\\site-packages (from spacy) (3.0.8)\n",
      "Requirement already satisfied: thinc<8.2.0,>=8.1.8 in c:\\users\\lashi\\appdata\\local\\programs\\python\\python311\\lib\\site-packages (from spacy) (8.1.9)\n",
      "Requirement already satisfied: wasabi<1.2.0,>=0.9.1 in c:\\users\\lashi\\appdata\\local\\programs\\python\\python311\\lib\\site-packages (from spacy) (0.10.1)\n",
      "Requirement already satisfied: srsly<3.0.0,>=2.4.3 in c:\\users\\lashi\\appdata\\local\\programs\\python\\python311\\lib\\site-packages (from spacy) (2.4.6)\n",
      "Requirement already satisfied: catalogue<2.1.0,>=2.0.6 in c:\\users\\lashi\\appdata\\local\\programs\\python\\python311\\lib\\site-packages (from spacy) (2.0.8)\n",
      "Requirement already satisfied: typer<0.8.0,>=0.3.0 in c:\\users\\lashi\\appdata\\local\\programs\\python\\python311\\lib\\site-packages (from spacy) (0.7.0)\n",
      "Requirement already satisfied: pathy>=0.10.0 in c:\\users\\lashi\\appdata\\local\\programs\\python\\python311\\lib\\site-packages (from spacy) (0.10.1)\n",
      "Requirement already satisfied: smart-open<7.0.0,>=5.2.1 in c:\\users\\lashi\\appdata\\local\\programs\\python\\python311\\lib\\site-packages (from spacy) (6.3.0)\n",
      "Requirement already satisfied: tqdm<5.0.0,>=4.38.0 in c:\\users\\lashi\\appdata\\local\\programs\\python\\python311\\lib\\site-packages (from spacy) (4.65.0)\n",
      "Requirement already satisfied: numpy>=1.15.0 in c:\\users\\lashi\\appdata\\local\\programs\\python\\python311\\lib\\site-packages (from spacy) (1.24.2)\n",
      "Requirement already satisfied: requests<3.0.0,>=2.13.0 in c:\\users\\lashi\\appdata\\local\\programs\\python\\python311\\lib\\site-packages (from spacy) (2.28.2)\n",
      "Requirement already satisfied: pydantic!=1.8,!=1.8.1,<1.11.0,>=1.7.4 in c:\\users\\lashi\\appdata\\local\\programs\\python\\python311\\lib\\site-packages (from spacy) (1.10.6)\n",
      "Requirement already satisfied: jinja2 in c:\\users\\lashi\\appdata\\local\\programs\\python\\python311\\lib\\site-packages (from spacy) (3.1.2)\n",
      "Requirement already satisfied: setuptools in c:\\users\\lashi\\appdata\\local\\programs\\python\\python311\\lib\\site-packages (from spacy) (67.6.0)\n",
      "Requirement already satisfied: packaging>=20.0 in c:\\users\\lashi\\appdata\\local\\programs\\python\\python311\\lib\\site-packages (from spacy) (23.0)\n",
      "Requirement already satisfied: langcodes<4.0.0,>=3.2.0 in c:\\users\\lashi\\appdata\\local\\programs\\python\\python311\\lib\\site-packages (from spacy) (3.3.0)\n",
      "Requirement already satisfied: typing-extensions>=4.2.0 in c:\\users\\lashi\\appdata\\local\\programs\\python\\python311\\lib\\site-packages (from pydantic!=1.8,!=1.8.1,<1.11.0,>=1.7.4->spacy) (4.5.0)\n",
      "Requirement already satisfied: charset-normalizer<4,>=2 in c:\\users\\lashi\\appdata\\local\\programs\\python\\python311\\lib\\site-packages (from requests<3.0.0,>=2.13.0->spacy) (3.1.0)\n",
      "Requirement already satisfied: idna<4,>=2.5 in c:\\users\\lashi\\appdata\\local\\programs\\python\\python311\\lib\\site-packages (from requests<3.0.0,>=2.13.0->spacy) (3.4)\n",
      "Requirement already satisfied: urllib3<1.27,>=1.21.1 in c:\\users\\lashi\\appdata\\local\\programs\\python\\python311\\lib\\site-packages (from requests<3.0.0,>=2.13.0->spacy) (1.26.15)\n",
      "Requirement already satisfied: certifi>=2017.4.17 in c:\\users\\lashi\\appdata\\local\\programs\\python\\python311\\lib\\site-packages (from requests<3.0.0,>=2.13.0->spacy) (2022.12.7)\n",
      "Requirement already satisfied: blis<0.8.0,>=0.7.8 in c:\\users\\lashi\\appdata\\local\\programs\\python\\python311\\lib\\site-packages (from thinc<8.2.0,>=8.1.8->spacy) (0.7.9)\n",
      "Requirement already satisfied: confection<1.0.0,>=0.0.1 in c:\\users\\lashi\\appdata\\local\\programs\\python\\python311\\lib\\site-packages (from thinc<8.2.0,>=8.1.8->spacy) (0.0.4)\n",
      "Requirement already satisfied: colorama in c:\\users\\lashi\\appdata\\local\\programs\\python\\python311\\lib\\site-packages (from tqdm<5.0.0,>=4.38.0->spacy) (0.4.6)\n",
      "Requirement already satisfied: click<9.0.0,>=7.1.1 in c:\\users\\lashi\\appdata\\local\\programs\\python\\python311\\lib\\site-packages (from typer<0.8.0,>=0.3.0->spacy) (8.1.3)\n",
      "Requirement already satisfied: MarkupSafe>=2.0 in c:\\users\\lashi\\appdata\\local\\programs\\python\\python311\\lib\\site-packages (from jinja2->spacy) (2.1.2)\n"
     ]
    }
   ],
   "source": [
    "!pip install spacy"
   ]
  },
  {
   "cell_type": "code",
   "execution_count": 3,
   "id": "b4006010",
   "metadata": {},
   "outputs": [
    {
     "name": "stdout",
     "output_type": "stream",
     "text": [
      "✔ Download and installation successful\n",
      "You can now load the package via spacy.load('en_core_web_sm')\n"
     ]
    }
   ],
   "source": [
    "spacy.cli.download(\"en_core_web_sm\")"
   ]
  },
  {
   "cell_type": "code",
   "execution_count": 8,
   "id": "01444291",
   "metadata": {},
   "outputs": [
    {
     "name": "stdout",
     "output_type": "stream",
     "text": [
      "\n",
      "Raw review :  One of the other reviewers has mentioned that after watching just 1 Oz episode you'll be hooked. They are right, as this is exactly what happened with me.The first thing that struck me about Oz was its brutality and unflinching scenes of violence, which set in right from the word GO. Trust me, this is not a show for the faint hearted or timid. This show pulls no punches with regards to drugs, sex or violence. Its is hardcore, in the classic use of the word.It is called OZ as that is the nickname given to the Oswald Maximum Security State Penitentary. It focuses mainly on Emerald City, an experimental section of the prison where all the cells have glass fronts and face inwards, so privacy is not high on the agenda. Em City is home to many..Aryans, Muslims, gangstas, Latinos, Christians, Italians, Irish and more....so scuffles, death stares, dodgy dealings and shady agreements are never far away.I would say the main appeal of the show is due to the fact that it goes where other shows wouldn't dare. Forget pretty pictures painted for mainstream audiences, forget charm, forget romance...OZ doesn't mess around. The first episode I ever saw struck me as so nasty it was surreal, I couldn't say I was ready for it, but as I watched more, I developed a taste for Oz, and got accustomed to the high levels of graphic violence. Not just violence, but injustice (crooked guards who'll be sold out for a nickel, inmates who'll kill on order and get away with it, well mannered, middle class inmates being turned into prison bitches due to their lack of street skills or prison experience) Watching Oz, you may become comfortable with what is uncomfortable viewing....thats if you can get in touch with your darker side.\n",
      "\n",
      "Keyphrases :  (One, just 1 Oz, the Oswald Maximum Security State Penitentary, Emerald City, Aryans, Muslims, Latinos, Christians, Italians, Irish, first, Watching Oz)\n",
      "\n",
      "Raw review :  A wonderful little production. The filming technique is very unassuming- very old-time-BBC fashion and gives a comforting, and sometimes discomforting, sense of realism to the entire piece. The actors are extremely well chosen- Michael Sheen not only \"has got all the polari\" but he has all the voices down pat too! You can truly see the seamless editing guided by the references to Williams' diary entries, not only is it well worth the watching but it is a terrificly written and performed piece. A masterful production about one of the great master's of comedy and his life. The realism really comes home with the little things the fantasy of the guard which, rather than use the traditional 'dream' techniques remains solid then disappears. It plays on our knowledge and our senses, particularly with the scenes concerning Orton and Halliwell and the sets (particularly of their flat with Halliwell's murals decorating every surface) are terribly well done.\n",
      "\n",
      "Keyphrases :  (BBC, Michael Sheen, Williams, about one, Orton, Halliwell, Halliwell)\n",
      "\n",
      "Raw review :  I thought this was a wonderful way to spend time on a too hot summer weekend, sitting in the air conditioned theater and watching a light-hearted comedy. The plot is simplistic, but the dialogue is witty and the characters are likable (even the well bread suspected serial killer). While some may be disappointed when they realize this is not Match Point 2 Risk Addiction, I thought it was proof that Woody Allen is still fully in control of the style many of us have grown to love.This was the most I'd laughed at one of Woody's comedies in years (dare I say a decade?). While I've never been impressed with Scarlet Johanson, in this she managed to tone down her \"sexy\" image and jumped right into a average, but spirited young woman.This may not be the crown jewel of his career, but it was wittier than \"Devil Wears Prada\" and more interesting than \"Superman\" a great comedy to go see with friends.\n",
      "\n",
      "Keyphrases :  (summer weekend, Match Point 2 Risk Addiction, Woody Allen, one, Woody, years, Scarlet Johanson, Devil Wears Prada, Superman)\n",
      "\n",
      "Raw review :  Basically there's a family where a little boy (Jake) thinks there's a zombie in his closet & his parents are fighting all the time.This movie is slower than a soap opera... and suddenly, Jake decides to become Rambo and kill the zombie.OK, first of all when you're going to make a film you must Decide if its a thriller or a drama! As a drama the movie is watchable. Parents are divorcing & arguing like in real life. And then we have Jake with his closet which totally ruins all the film! I expected to see a BOOGEYMAN similar movie, and instead i watched a drama with some meaningless thriller spots.3 out of 10 just for the well playing parents & descent dialogs. As for the shots with Jake just ignore them.\n",
      "\n",
      "Keyphrases :  (Jake, Rambo, first, BOOGEYMAN, 10, Jake)\n",
      "\n",
      "Raw review :  Petter Mattei's \"Love in the Time of Money\" is a visually stunning film to watch. Mr. Mattei offers us a vivid portrait about human relations. This is a movie that seems to be telling us what money, power and success do to people in the different situations we encounter. This being a variation on the Arthur Schnitzler's play about the same theme, the director transfers the action to the present time New York where all these different characters meet and connect. Each one is connected in one way, or another to the next person, but no one seems to know the previous point of contact. Stylishly, the film has a sophisticated luxurious look. We are taken to see how these people live and the world they live in their own habitat.The only thing one gets out of all these souls in the picture is the different stages of loneliness each one inhabits. A big city is not exactly the best place in which human relations find sincere fulfillment, as one discerns is the case with most of the people we encounter.The acting is good under Mr. Mattei's direction. Steve Buscemi, Rosario Dawson, Carol Kane, Michael Imperioli, Adrian Grenier, and the rest of the talented cast, make these characters come alive.We wish Mr. Mattei good luck and await anxiously for his next work.\n",
      "\n",
      "Keyphrases :  (Petter Mattei's, Love in the Time of Money, Mattei, Arthur Schnitzler's, New York, one, Stylishly, one, Mattei, Steve Buscemi, Rosario Dawson, Carol Kane, Michael Imperioli, Adrian Grenier, Mattei)\n"
     ]
    }
   ],
   "source": [
    "import spacy \n",
    "\n",
    "nlp = spacy.load(\"en_core_web_sm\")\n",
    "\n",
    "for x in range(5):\n",
    "    text = df.iat[x,0]\n",
    "    print(\"\\nRaw review : \", text)\n",
    "    doc = nlp(text)\n",
    "    print(\"\\nKeyphrases : \", doc.ents)"
   ]
  },
  {
   "cell_type": "code",
   "execution_count": 19,
   "id": "626b95c8",
   "metadata": {},
   "outputs": [
    {
     "name": "stdout",
     "output_type": "stream",
     "text": [
      "Requirement already satisfied: nltk in c:\\users\\lashi\\appdata\\local\\programs\\python\\python311\\lib\\site-packages (3.8.1)\n",
      "Requirement already satisfied: click in c:\\users\\lashi\\appdata\\local\\programs\\python\\python311\\lib\\site-packages (from nltk) (8.1.3)\n",
      "Requirement already satisfied: joblib in c:\\users\\lashi\\appdata\\local\\programs\\python\\python311\\lib\\site-packages (from nltk) (1.2.0)\n",
      "Requirement already satisfied: regex>=2021.8.3 in c:\\users\\lashi\\appdata\\local\\programs\\python\\python311\\lib\\site-packages (from nltk) (2022.10.31)\n",
      "Requirement already satisfied: tqdm in c:\\users\\lashi\\appdata\\local\\programs\\python\\python311\\lib\\site-packages (from nltk) (4.65.0)\n",
      "Requirement already satisfied: colorama in c:\\users\\lashi\\appdata\\local\\programs\\python\\python311\\lib\\site-packages (from click->nltk) (0.4.6)\n",
      "Requirement already satisfied: rake-nltk in c:\\users\\lashi\\appdata\\local\\programs\\python\\python311\\lib\\site-packages (1.0.6)\n",
      "Requirement already satisfied: nltk<4.0.0,>=3.6.2 in c:\\users\\lashi\\appdata\\local\\programs\\python\\python311\\lib\\site-packages (from rake-nltk) (3.8.1)\n",
      "Requirement already satisfied: click in c:\\users\\lashi\\appdata\\local\\programs\\python\\python311\\lib\\site-packages (from nltk<4.0.0,>=3.6.2->rake-nltk) (8.1.3)\n",
      "Requirement already satisfied: joblib in c:\\users\\lashi\\appdata\\local\\programs\\python\\python311\\lib\\site-packages (from nltk<4.0.0,>=3.6.2->rake-nltk) (1.2.0)\n",
      "Requirement already satisfied: regex>=2021.8.3 in c:\\users\\lashi\\appdata\\local\\programs\\python\\python311\\lib\\site-packages (from nltk<4.0.0,>=3.6.2->rake-nltk) (2022.10.31)\n",
      "Requirement already satisfied: tqdm in c:\\users\\lashi\\appdata\\local\\programs\\python\\python311\\lib\\site-packages (from nltk<4.0.0,>=3.6.2->rake-nltk) (4.65.0)\n",
      "Requirement already satisfied: colorama in c:\\users\\lashi\\appdata\\local\\programs\\python\\python311\\lib\\site-packages (from click->nltk<4.0.0,>=3.6.2->rake-nltk) (0.4.6)\n"
     ]
    }
   ],
   "source": [
    "!pip install nltk\n",
    "!pip install rake-nltk"
   ]
  },
  {
   "cell_type": "code",
   "execution_count": 15,
   "id": "2bf698b8",
   "metadata": {},
   "outputs": [
    {
     "name": "stderr",
     "output_type": "stream",
     "text": [
      "[nltk_data] Downloading package stopwords to\n",
      "[nltk_data]     C:\\Users\\lashi\\AppData\\Roaming\\nltk_data...\n",
      "[nltk_data]   Package stopwords is already up-to-date!\n",
      "[nltk_data] Downloading package punkt to\n",
      "[nltk_data]     C:\\Users\\lashi\\AppData\\Roaming\\nltk_data...\n",
      "[nltk_data]   Unzipping tokenizers\\punkt.zip.\n"
     ]
    },
    {
     "data": {
      "text/plain": [
       "True"
      ]
     },
     "execution_count": 15,
     "metadata": {},
     "output_type": "execute_result"
    }
   ],
   "source": [
    "import nltk\n",
    "nltk.download('stopwords')\n",
    "nltk.download('punkt')"
   ]
  },
  {
   "cell_type": "code",
   "execution_count": 17,
   "id": "de385cc1",
   "metadata": {},
   "outputs": [
    {
     "name": "stdout",
     "output_type": "stream",
     "text": [
      "\n",
      "Raw review :  One of the other reviewers has mentioned that after watching just 1 Oz episode you'll be hooked. They are right, as this is exactly what happened with me.The first thing that struck me about Oz was its brutality and unflinching scenes of violence, which set in right from the word GO. Trust me, this is not a show for the faint hearted or timid. This show pulls no punches with regards to drugs, sex or violence. Its is hardcore, in the classic use of the word.It is called OZ as that is the nickname given to the Oswald Maximum Security State Penitentary. It focuses mainly on Emerald City, an experimental section of the prison where all the cells have glass fronts and face inwards, so privacy is not high on the agenda. Em City is home to many..Aryans, Muslims, gangstas, Latinos, Christians, Italians, Irish and more....so scuffles, death stares, dodgy dealings and shady agreements are never far away.I would say the main appeal of the show is due to the fact that it goes where other shows wouldn't dare. Forget pretty pictures painted for mainstream audiences, forget charm, forget romance...OZ doesn't mess around. The first episode I ever saw struck me as so nasty it was surreal, I couldn't say I was ready for it, but as I watched more, I developed a taste for Oz, and got accustomed to the high levels of graphic violence. Not just violence, but injustice (crooked guards who'll be sold out for a nickel, inmates who'll kill on order and get away with it, well mannered, middle class inmates being turned into prison bitches due to their lack of street skills or prison experience) Watching Oz, you may become comfortable with what is uncomfortable viewing....thats if you can get in touch with your darker side.\n",
      "\n",
      "Keyphrases :  [(25.0, 'oswald maximum security state penitentary'), (15.333333333333334, 'forget pretty pictures painted'), (14.5, 'uncomfortable viewing .... thats'), (13.5, 'forget romance ... oz'), (9.0, 'may become comfortable'), (9.0, 'many .. aryans'), (8.5, 'never far away'), (8.0, 'middle class inmates'), (8.0, 'ever saw struck'), (7.666666666666666, '1 oz episode'), (7.0, 'prison bitches due'), (5.333333333333334, 'forget charm'), (4.5, 'first episode'), (4.166666666666666, 'called oz'), (4.0, 'well mannered'), (4.0, 'unflinching scenes'), (4.0, 'street skills'), (4.0, 'shady agreements'), (4.0, 'prison experience'), (4.0, 'nickname given'), (4.0, 'mess around'), (4.0, 'mainstream audiences'), (4.0, 'main appeal'), (4.0, 'got accustomed'), (4.0, 'glass fronts'), (4.0, 'get away'), (4.0, 'focuses mainly'), (4.0, 'first thing'), (4.0, 'faint hearted'), (4.0, 'face inwards'), (4.0, 'experimental section'), (4.0, 'emerald city'), (4.0, 'em city'), (4.0, 'dodgy dealings'), (4.0, 'death stares'), (4.0, 'darker side'), (4.0, 'crooked guards'), (4.0, 'classic use'), (3.6666666666666665, 'watching oz'), (3.5, 'would say'), (3.5, 'word go'), (3.5, 'high levels'), (3.333333333333333, 'show pulls'), (3.25, 'graphic violence'), (2.5, '....'), (2.1666666666666665, 'oz'), (2.1666666666666665, 'oz'), (2.0, 'struck'), (2.0, 'prison'), (2.0, 'inmates'), (2.0, 'due'), (1.5, 'word'), (1.5, 'watching'), (1.5, 'say'), (1.5, 'high'), (1.5, 'get'), (1.3333333333333333, 'show'), (1.3333333333333333, 'show'), (1.25, 'violence'), (1.25, 'violence'), (1.25, 'violence'), (1.0, 'watched'), (1.0, 'turned'), (1.0, 'trust'), (1.0, 'touch'), (1.0, 'timid'), (1.0, 'taste'), (1.0, 'surreal'), (1.0, 'sold'), (1.0, 'shows'), (1.0, 'sex'), (1.0, 'set'), (1.0, 'scuffles'), (1.0, 'right'), (1.0, 'right'), (1.0, 'reviewers'), (1.0, 'regards'), (1.0, 'ready'), (1.0, 'punches'), (1.0, 'privacy'), (1.0, 'order'), (1.0, 'one'), (1.0, 'nickel'), (1.0, 'nasty'), (1.0, 'muslims'), (1.0, 'mentioned'), (1.0, 'latinos'), (1.0, 'lack'), (1.0, 'kill'), (1.0, 'italians'), (1.0, 'irish'), (1.0, 'injustice'), (1.0, 'hooked'), (1.0, 'home'), (1.0, 'hardcore'), (1.0, 'happened'), (1.0, 'goes'), (1.0, 'gangstas'), (1.0, 'fact'), (1.0, 'exactly'), (1.0, 'drugs'), (1.0, 'developed'), (1.0, 'dare'), (1.0, 'christians'), (1.0, 'cells'), (1.0, 'brutality'), (1.0, 'agenda')]\n",
      "\n",
      "Raw review :  A wonderful little production. The filming technique is very unassuming- very old-time-BBC fashion and gives a comforting, and sometimes discomforting, sense of realism to the entire piece. The actors are extremely well chosen- Michael Sheen not only \"has got all the polari\" but he has all the voices down pat too! You can truly see the seamless editing guided by the references to Williams' diary entries, not only is it well worth the watching but it is a terrificly written and performed piece. A masterful production about one of the great master's of comedy and his life. The realism really comes home with the little things the fantasy of the guard which, rather than use the traditional 'dream' techniques remains solid then disappears. It plays on our knowledge and our senses, particularly with the scenes concerning Orton and Halliwell and the sets (particularly of their flat with Halliwell's murals decorating every surface) are terribly well done.\n",
      "\n",
      "Keyphrases :  [(16.0, 'murals decorating every surface'), (14.5, 'realism really comes home'), (9.0, 'techniques remains solid'), (9.0, 'seamless editing guided'), (9.0, 'scenes concerning orton'), (8.666666666666666, 'terribly well done'), (8.666666666666666, 'extremely well chosen'), (8.0, 'wonderful little production'), (4.666666666666666, 'well worth'), (4.5, 'masterful production'), (4.5, 'little things'), (4.0, 'truly see'), (4.0, 'terrificly written'), (4.0, 'sometimes discomforting'), (4.0, 'performed piece'), (4.0, 'michael sheen'), (4.0, 'great master'), (4.0, 'filming technique'), (4.0, 'entire piece'), (4.0, 'diary entries'), (4.0, 'bbc fashion'), (2.5, 'realism'), (1.0, 'williams'), (1.0, 'watching'), (1.0, 'voices'), (1.0, 'use'), (1.0, 'unassuming'), (1.0, 'traditional'), (1.0, 'time'), (1.0, 'sets'), (1.0, 'senses'), (1.0, 'sense'), (1.0, 'references'), (1.0, 'rather'), (1.0, 'polari'), (1.0, 'plays'), (1.0, 'pat'), (1.0, 'particularly'), (1.0, 'particularly'), (1.0, 'one'), (1.0, 'old'), (1.0, 'life'), (1.0, 'knowledge'), (1.0, 'halliwell'), (1.0, 'halliwell'), (1.0, 'guard'), (1.0, 'got'), (1.0, 'gives'), (1.0, 'flat'), (1.0, 'fantasy'), (1.0, 'dream'), (1.0, 'disappears'), (1.0, 'comforting'), (1.0, 'comedy'), (1.0, 'actors')]\n",
      "\n",
      "Raw review :  I thought this was a wonderful way to spend time on a too hot summer weekend, sitting in the air conditioned theater and watching a light-hearted comedy. The plot is simplistic, but the dialogue is witty and the characters are likable (even the well bread suspected serial killer). While some may be disappointed when they realize this is not Match Point 2 Risk Addiction, I thought it was proof that Woody Allen is still fully in control of the style many of us have grown to love.This was the most I'd laughed at one of Woody's comedies in years (dare I say a decade?). While I've never been impressed with Scarlet Johanson, in this she managed to tone down her \"sexy\" image and jumped right into a average, but spirited young woman.This may not be the crown jewel of his career, but it was wittier than \"Devil Wears Prada\" and more interesting than \"Superman\" a great comedy to go see with friends.\n",
      "\n",
      "Keyphrases :  [(36.0, 'well bread suspected serial killer ).'), (25.0, 'match point 2 risk addiction'), (9.0, 'spirited young woman'), (9.0, 'hot summer weekend'), (9.0, 'devil wears prada'), (9.0, 'air conditioned theater'), (4.0, 'wonderful way'), (4.0, 'style many'), (4.0, 'still fully'), (4.0, 'spend time'), (4.0, 'scarlet johanson'), (4.0, 'jumped right'), (4.0, 'hearted comedy'), (4.0, 'great comedy'), (4.0, 'go see'), (4.0, 'decade ?).'), (4.0, 'crown jewel'), (3.5, 'woody allen'), (1.5, 'woody'), (1.0, 'years'), (1.0, 'witty'), (1.0, 'wittier'), (1.0, 'watching'), (1.0, 'us'), (1.0, 'tone'), (1.0, 'thought'), (1.0, 'thought'), (1.0, 'superman'), (1.0, 'sitting'), (1.0, 'simplistic'), (1.0, 'sexy'), (1.0, 'say'), (1.0, 'realize'), (1.0, 'proof'), (1.0, 'plot'), (1.0, 'one'), (1.0, 'never'), (1.0, 'may'), (1.0, 'may'), (1.0, 'managed'), (1.0, 'love'), (1.0, 'likable'), (1.0, 'light'), (1.0, 'laughed'), (1.0, 'interesting'), (1.0, 'impressed'), (1.0, 'image'), (1.0, 'grown'), (1.0, 'friends'), (1.0, 'even'), (1.0, 'disappointed'), (1.0, 'dialogue'), (1.0, 'dare'), (1.0, 'control'), (1.0, 'comedies'), (1.0, 'characters'), (1.0, 'career'), (1.0, 'average')]\n",
      "\n",
      "Raw review :  Basically there's a family where a little boy (Jake) thinks there's a zombie in his closet & his parents are fighting all the time.This movie is slower than a soap opera... and suddenly, Jake decides to become Rambo and kill the zombie.OK, first of all when you're going to make a film you must Decide if its a thriller or a drama! As a drama the movie is watchable. Parents are divorcing & arguing like in real life. And then we have Jake with his closet which totally ruins all the film! I expected to see a BOOGEYMAN similar movie, and instead i watched a drama with some meaningless thriller spots.3 out of 10 just for the well playing parents & descent dialogs. As for the shots with Jake just ignore them.\n",
      "\n",
      "Keyphrases :  [(9.0, 'soap opera ...'), (8.0, 'meaningless thriller spots'), (7.666666666666667, 'well playing parents'), (7.666666666666667, 'boogeyman similar movie'), (4.0, 'totally ruins'), (4.0, 'real life'), (4.0, 'must decide'), (4.0, 'little boy'), (4.0, 'descent dialogs'), (4.0, 'become rambo'), (4.0, 'arguing like'), (3.25, 'jake decides'), (2.0, 'thriller'), (1.6666666666666667, 'parents'), (1.6666666666666667, 'parents'), (1.6666666666666667, 'movie'), (1.6666666666666667, 'movie'), (1.25, 'jake'), (1.25, 'jake'), (1.25, 'jake'), (1.0, 'zombie'), (1.0, 'zombie'), (1.0, 'watched'), (1.0, 'watchable'), (1.0, 'time'), (1.0, 'thinks'), (1.0, 'suddenly'), (1.0, 'slower'), (1.0, 'shots'), (1.0, 'see'), (1.0, 'ok'), (1.0, 'make'), (1.0, 'kill'), (1.0, 'instead'), (1.0, 'ignore'), (1.0, 'going'), (1.0, 'first'), (1.0, 'film'), (1.0, 'film'), (1.0, 'fighting'), (1.0, 'family'), (1.0, 'expected'), (1.0, 'drama'), (1.0, 'drama'), (1.0, 'drama'), (1.0, 'divorcing'), (1.0, 'closet'), (1.0, 'closet'), (1.0, 'basically'), (1.0, '3'), (1.0, '10')]\n",
      "\n",
      "Raw review :  Petter Mattei's \"Love in the Time of Money\" is a visually stunning film to watch. Mr. Mattei offers us a vivid portrait about human relations. This is a movie that seems to be telling us what money, power and success do to people in the different situations we encounter. This being a variation on the Arthur Schnitzler's play about the same theme, the director transfers the action to the present time New York where all these different characters meet and connect. Each one is connected in one way, or another to the next person, but no one seems to know the previous point of contact. Stylishly, the film has a sophisticated luxurious look. We are taken to see how these people live and the world they live in their own habitat.The only thing one gets out of all these souls in the picture is the different stages of loneliness each one inhabits. A big city is not exactly the best place in which human relations find sincere fulfillment, as one discerns is the case with most of the people we encounter.The acting is good under Mr. Mattei's direction. Steve Buscemi, Rosario Dawson, Carol Kane, Michael Imperioli, Adrian Grenier, and the rest of the talented cast, make these characters come alive.We wish Mr. Mattei good luck and await anxiously for his next work.\n",
      "\n",
      "Keyphrases :  [(22.0, 'human relations find sincere fulfillment'), (14.5, 'present time new york'), (9.0, 'sophisticated luxurious look'), (9.0, 'characters come alive'), (8.333333333333334, 'different characters meet'), (8.0, 'visually stunning film'), (8.0, 'thing one gets'), (7.75, 'mattei offers us'), (7.25, 'mattei good luck'), (7.0, 'human relations'), (4.5, 'telling us'), (4.333333333333334, 'different stages'), (4.333333333333334, 'different situations'), (4.25, 'petter mattei'), (4.0, 'vivid portrait'), (4.0, 'talented cast'), (4.0, 'steve buscemi'), (4.0, 'rosario dawson'), (4.0, 'previous point'), (4.0, 'one way'), (4.0, 'one inhabits'), (4.0, 'one discerns'), (4.0, 'next work'), (4.0, 'next person'), (4.0, 'michael imperioli'), (4.0, 'director transfers'), (4.0, 'carol kane'), (4.0, 'big city'), (4.0, 'best place'), (4.0, 'await anxiously'), (4.0, 'arthur schnitzler'), (4.0, 'adrian grenier'), (3.5, 'one seems'), (3.333333333333333, 'wish mr'), (2.833333333333333, 'people live'), (2.5, 'time'), (2.25, 'mattei'), (2.0, 'one'), (2.0, 'good'), (2.0, 'film'), (1.5, 'seems'), (1.5, 'live'), (1.3333333333333333, 'people'), (1.3333333333333333, 'people'), (1.3333333333333333, 'mr'), (1.3333333333333333, 'mr'), (1.0, 'world'), (1.0, 'watch'), (1.0, 'variation'), (1.0, 'theme'), (1.0, 'taken'), (1.0, 'success'), (1.0, 'stylishly'), (1.0, 'souls'), (1.0, 'see'), (1.0, 'rest'), (1.0, 'power'), (1.0, 'play'), (1.0, 'picture'), (1.0, 'movie'), (1.0, 'money'), (1.0, 'money'), (1.0, 'make'), (1.0, 'love'), (1.0, 'loneliness'), (1.0, 'know'), (1.0, 'habitat'), (1.0, 'exactly'), (1.0, 'encounter'), (1.0, 'encounter'), (1.0, 'direction'), (1.0, 'contact'), (1.0, 'connected'), (1.0, 'connect'), (1.0, 'case'), (1.0, 'another'), (1.0, 'action'), (1.0, 'acting')]\n"
     ]
    }
   ],
   "source": [
    "from rake_nltk import Rake\n",
    "\n",
    "\n",
    "r = Rake()\n",
    "\n",
    "for x in range(5):\n",
    "    text = df.iat[x,0]\n",
    "    print(\"\\nRaw review : \", text)\n",
    "\n",
    "    r.extract_keywords_from_text(text)\n",
    "\n",
    "#     To get keyword phrases ranked highest to lowest.\n",
    "#     keyword_extracted = r.get_ranked_phrases()\n",
    "\n",
    "#     To get keyword phrases ranked highest to lowest with scores.\n",
    "    keyword_extracted = r.get_ranked_phrases_with_scores()\n",
    "    print(\"\\nKeyphrases : \", keyword_extracted)"
   ]
  }
 ],
 "metadata": {
  "kernelspec": {
   "display_name": "Python 3 (ipykernel)",
   "language": "python",
   "name": "python3"
  },
  "language_info": {
   "codemirror_mode": {
    "name": "ipython",
    "version": 3
   },
   "file_extension": ".py",
   "mimetype": "text/x-python",
   "name": "python",
   "nbconvert_exporter": "python",
   "pygments_lexer": "ipython3",
   "version": "3.11.2"
  }
 },
 "nbformat": 4,
 "nbformat_minor": 5
}
